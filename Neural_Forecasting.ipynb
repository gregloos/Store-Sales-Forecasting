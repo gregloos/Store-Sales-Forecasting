{
 "cells": [
  {
   "cell_type": "code",
   "execution_count": 9,
   "id": "e4f2c186",
   "metadata": {},
   "outputs": [],
   "source": [
    "import pandas as pd\n",
    "import matplotlib.pyplot as plt\n",
    "import seaborn as sns\n",
    "import numpy as np\n",
    "from sklearn.model_selection import train_test_split\n",
    "from sklearn.linear_model import LinearRegression\n",
    "from sklearn.metrics import mean_absolute_error\n",
    "from sklearn.model_selection import TimeSeriesSplit\n",
    "from sklearn.preprocessing import LabelEncoder"
   ]
  },
  {
   "cell_type": "code",
   "execution_count": 10,
   "id": "b6d43981",
   "metadata": {},
   "outputs": [],
   "source": [
    "df = pd.read_csv(\"train.csv\", parse_dates=['date'])\n",
    "df.set_index('date', inplace=True)"
   ]
  },
  {
   "cell_type": "code",
   "execution_count": 11,
   "id": "e2fe2422",
   "metadata": {},
   "outputs": [],
   "source": [
    "df['year'] = df.index.year\n",
    "df['month'] = df.index.month\n",
    "df['day'] = df.index.day\n",
    "df['dayofweek'] = df.index.dayofweek\n",
    "df['is_weekend'] = df.index.dayofweek.isin([5, 6]).astype(int)"
   ]
  },
  {
   "cell_type": "code",
   "execution_count": 12,
   "id": "08e019ad",
   "metadata": {},
   "outputs": [
    {
     "data": {
      "text/plain": [
       "<Axes: xlabel='date'>"
      ]
     },
     "execution_count": 12,
     "metadata": {},
     "output_type": "execute_result"
    },
    {
     "data": {
      "image/png": "[encoded data removed]",
      "text/plain": [
       "<Figure size 640x480 with 1 Axes>"
      ]
     },
     "metadata": {},
     "output_type": "display_data"
    }
   ],
   "source": [
    "sales = df['sales']\n",
    "sales.plot()"
   ]
  },
  {
   "cell_type": "code",
   "execution_count": 13,
   "id": "fc1eef03",
   "metadata": {},
   "outputs": [],
   "source": [
    "le = LabelEncoder()\n",
    "df['family_idx'] = le.fit_transform(df['family'])"
   ]
  },
  {
   "cell_type": "code",
   "execution_count": 14,
   "id": "0cdd2187",
   "metadata": {},
   "outputs": [],
   "source": [
    "# Sort and group\n",
    "df = df.sort_values(['store_nbr', 'family'])   # date order is preserved by the index\n",
    "\n",
    "group_cols = ['store_nbr', 'family']\n",
    "g = df.groupby(group_cols)['sales']          # df already has DatetimeIndex\n",
    "\n",
    "# lags\n",
    "for w in [1, 7, 14, 28, 56]:\n",
    "    df[f'lag_{w}'] = g.shift(w)\n",
    "\n",
    "# calendar-based rolling means (exclude today)\n",
    "for w in ['7D', '14D']:\n",
    "    name = f'rolling_{w[:-1]}_mean'\n",
    "    df[name] = (\n",
    "        g.apply(lambda s: s.shift(1).rolling(w).mean())\n",
    "          .reset_index(level=group_cols, drop=True)\n",
    "    )"
   ]
  },
  {
   "cell_type": "code",
   "execution_count": 21,
   "id": "36577e12",
   "metadata": {},
   "outputs": [],
   "source": [
    "holidays = pd.read_csv('holidays_events.csv', parse_dates=['date'])\n",
    "holidays.set_index('date', inplace=True)"
   ]
  },
  {
   "cell_type": "code",
   "execution_count": 22,
   "id": "fd85b2a2",
   "metadata": {},
   "outputs": [
    {
     "data": {
      "text/html": [
       "<div>\n",
       "<style scoped>\n",
       "    .dataframe tbody tr th:only-of-type {\n",
       "        vertical-align: middle;\n",
       "    }\n",
       "\n",
       "    .dataframe tbody tr th {\n",
       "        vertical-align: top;\n",
       "    }\n",
       "\n",
       "    .dataframe thead th {\n",
       "        text-align: right;\n",
       "    }\n",
       "</style>\n",
       "<table border=\"1\" class=\"dataframe\">\n",
       "  <thead>\n",
       "    <tr style=\"text-align: right;\">\n",
       "      <th></th>\n",
       "      <th>type</th>\n",
       "      <th>locale</th>\n",
       "      <th>locale_name</th>\n",
       "      <th>description</th>\n",
       "      <th>transferred</th>\n",
       "    </tr>\n",
       "    <tr>\n",
       "      <th>date</th>\n",
       "      <th></th>\n",
       "      <th></th>\n",
       "      <th></th>\n",
       "      <th></th>\n",
       "      <th></th>\n",
       "    </tr>\n",
       "  </thead>\n",
       "  <tbody>\n",
       "    <tr>\n",
       "      <th>2012-03-02</th>\n",
       "      <td>Holiday</td>\n",
       "      <td>Local</td>\n",
       "      <td>Manta</td>\n",
       "      <td>Fundacion de Manta</td>\n",
       "      <td>False</td>\n",
       "    </tr>\n",
       "    <tr>\n",
       "      <th>2012-04-01</th>\n",
       "      <td>Holiday</td>\n",
       "      <td>Regional</td>\n",
       "      <td>Cotopaxi</td>\n",
       "      <td>Provincializacion de Cotopaxi</td>\n",
       "      <td>False</td>\n",
       "    </tr>\n",
       "    <tr>\n",
       "      <th>2012-04-12</th>\n",
       "      <td>Holiday</td>\n",
       "      <td>Local</td>\n",
       "      <td>Cuenca</td>\n",
       "      <td>Fundacion de Cuenca</td>\n",
       "      <td>False</td>\n",
       "    </tr>\n",
       "    <tr>\n",
       "      <th>2012-04-14</th>\n",
       "      <td>Holiday</td>\n",
       "      <td>Local</td>\n",
       "      <td>Libertad</td>\n",
       "      <td>Cantonizacion de Libertad</td>\n",
       "      <td>False</td>\n",
       "    </tr>\n",
       "    <tr>\n",
       "      <th>2012-04-21</th>\n",
       "      <td>Holiday</td>\n",
       "      <td>Local</td>\n",
       "      <td>Riobamba</td>\n",
       "      <td>Cantonizacion de Riobamba</td>\n",
       "      <td>False</td>\n",
       "    </tr>\n",
       "  </tbody>\n",
       "</table>\n",
       "</div>"
      ],
      "text/plain": [
       "               type    locale locale_name                    description  \\\n",
       "date                                                                       \n",
       "2012-03-02  Holiday     Local       Manta             Fundacion de Manta   \n",
       "2012-04-01  Holiday  Regional    Cotopaxi  Provincializacion de Cotopaxi   \n",
       "2012-04-12  Holiday     Local      Cuenca            Fundacion de Cuenca   \n",
       "2012-04-14  Holiday     Local    Libertad      Cantonizacion de Libertad   \n",
       "2012-04-21  Holiday     Local    Riobamba      Cantonizacion de Riobamba   \n",
       "\n",
       "            transferred  \n",
       "date                     \n",
       "2012-03-02        False  \n",
       "2012-04-01        False  \n",
       "2012-04-12        False  \n",
       "2012-04-14        False  \n",
       "2012-04-21        False  "
      ]
     },
     "execution_count": 22,
     "metadata": {},
     "output_type": "execute_result"
    }
   ],
   "source": [
    "holidays.head()"
   ]
  },
  {
   "cell_type": "code",
   "execution_count": 23,
   "id": "e6bb0684",
   "metadata": {},
   "outputs": [
    {
     "name": "stdout",
     "output_type": "stream",
     "text": [
      "['Holiday' 'Transfer' 'Additional' 'Bridge' 'Work Day' 'Event']\n"
     ]
    }
   ],
   "source": [
    "unique_vals = holidays['type'].unique()\n",
    "print(unique_vals)\n"
   ]
  },
  {
   "cell_type": "code",
   "execution_count": 24,
   "id": "f71f5291",
   "metadata": {},
   "outputs": [
    {
     "name": "stdout",
     "output_type": "stream",
     "text": [
      "['Local' 'Regional' 'National']\n"
     ]
    }
   ],
   "source": [
    "unique_vals = holidays['locale'].unique()\n",
    "print(unique_vals)\n"
   ]
  },
  {
   "cell_type": "code",
   "execution_count": 28,
   "id": "e1c979fb",
   "metadata": {},
   "outputs": [
    {
     "name": "stdout",
     "output_type": "stream",
     "text": [
      "                type    locale locale_name  \\\n",
      "date                                         \n",
      "2012-08-10   Holiday  National     Ecuador   \n",
      "2012-10-09   Holiday  National     Ecuador   \n",
      "2012-10-12  Transfer  National     Ecuador   \n",
      "2012-11-02   Holiday  National     Ecuador   \n",
      "2012-11-03   Holiday  National     Ecuador   \n",
      "\n",
      "                                    description  transferred  \n",
      "date                                                          \n",
      "2012-08-10        Primer Grito de Independencia        False  \n",
      "2012-10-09           Independencia de Guayaquil         True  \n",
      "2012-10-12  Traslado Independencia de Guayaquil        False  \n",
      "2012-11-02                      Dia de Difuntos        False  \n",
      "2012-11-03              Independencia de Cuenca        False  \n"
     ]
    }
   ],
   "source": [
    "# 1. Boolean mask for national‐only\n",
    "mask = holidays['locale'] == 'National'\n",
    "\n",
    "# 2. Filter the DataFrame\n",
    "national_holidays = holidays[mask]\n",
    "\n",
    "# 3. Inspect the result\n",
    "print(national_holidays.head())\n"
   ]
  }
 ],
 "metadata": {
  "kernelspec": {
   "display_name": ".venv",
   "language": "python",
   "name": "python3"
  },
  "language_info": {
   "codemirror_mode": {
    "name": "ipython",
    "version": 3
   },
   "file_extension": ".py",
   "mimetype": "text/x-python",
   "name": "python",
   "nbconvert_exporter": "python",
   "pygments_lexer": "ipython3",
   "version": "3.12.4"
  }
 },
 "nbformat": 4,
 "nbformat_minor": 5
}

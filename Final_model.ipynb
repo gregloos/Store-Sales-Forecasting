{
 "cells": [
  {
   "cell_type": "markdown",
   "id": "06336377",
   "metadata": {},
   "source": [
    "## 📘 Project Phase: Final Model Expansion\n",
    "\n",
    "In this notebook, I will build on the previously improved XGBoost model (which achieved an RMSLE of 0.2381) by integrating additional data sources provided in the competition:\n",
    "\n",
    "- `stores.csv` – store-level metadata (e.g. city, type, cluster)\n",
    "- `oil.csv` – daily oil prices (macroeconomic signal)\n",
    "- `transactions.csv` – store-level daily customer volume\n",
    "\n",
    "### 🛠️ Planned Steps:\n",
    "1. **Merge external datasets** into the training and test sets.\n",
    "2. **Engineer new features** from these sources (e.g. oil trends, transaction lags).\n",
    "3. **Refine the model** by re-tuning hyperparameters using TimeSeriesSplit CV.\n",
    "4. **Evaluate** the impact of the new data on forecast accuracy (RMSLE).\n",
    "5. **Re-train on full data** and prepare final Kaggle submission.\n",
    "\n",
    "The goal is to push the model beyond current performance by capturing more contextual and behavioral signals."
   ]
  },
  {
   "cell_type": "code",
   "execution_count": 1,
   "id": "05fc9418",
   "metadata": {},
   "outputs": [],
   "source": [
    "import pandas as pd\n",
    "import matplotlib.pyplot as plt\n",
    "import seaborn as sns\n",
    "import numpy as np\n",
    "from sklearn.metrics import mean_absolute_error\n",
    "from sklearn.preprocessing import LabelEncoder\n",
    "from xgboost import XGBRegressor"
   ]
  },
  {
   "cell_type": "code",
   "execution_count": 4,
   "id": "e1fd1333",
   "metadata": {},
   "outputs": [],
   "source": [
    "df = pd.read_csv(\"train.csv\", parse_dates=['date'])\n",
    "df.set_index('date', inplace=True)\n",
    "\n",
    "holidays = pd.read_csv('holidays_events.csv', parse_dates=['date'])\n",
    "holidays.set_index('date', inplace=True)\n",
    "\n",
    "oil_price = pd.read_csv('oil.csv', parse_dates=['date'])\n",
    "oil_price.set_index('date', inplace=True)\n",
    "\n",
    "stores = pd.read_csv('stores.csv')\n",
    "\n",
    "transactions = pd.read_csv('transactions.csv', parse_dates=['date'])\n",
    "transactions.set_index('date', inplace=True)"
   ]
  }
 ],
 "metadata": {
  "kernelspec": {
   "display_name": ".venv",
   "language": "python",
   "name": "python3"
  },
  "language_info": {
   "codemirror_mode": {
    "name": "ipython",
    "version": 3
   },
   "file_extension": ".py",
   "mimetype": "text/x-python",
   "name": "python",
   "nbconvert_exporter": "python",
   "pygments_lexer": "ipython3",
   "version": "3.12.4"
  }
 },
 "nbformat": 4,
 "nbformat_minor": 5
}
